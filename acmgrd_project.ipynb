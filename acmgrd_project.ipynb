{
 "cells": [
  {
   "cell_type": "markdown",
   "id": "96f4427b-46a6-4399-bcaf-759807ad0e99",
   "metadata": {},
   "source": [
    "## importing libraries"
   ]
  },
  {
   "cell_type": "code",
   "execution_count": 2,
   "id": "64612077-1326-4d55-8266-0f4818fa5508",
   "metadata": {},
   "outputs": [],
   "source": [
    "import numpy as np\n",
    "import tensorflow as tf\n",
    "from tensorflow.keras.datasets import mnist\n",
    "from tensorflow.keras.models import Sequential, load_model\n",
    "from tensorflow.keras.layers import Conv2D, MaxPooling2D, Flatten, Dense, Dropout\n",
    "from tensorflow.keras.utils import to_categorical\n",
    "import matplotlib.pyplot as plt\n",
    "from sklearn.metrics import confusion_matrix, ConfusionMatrixDisplay"
   ]
  },
  {
   "cell_type": "markdown",
   "id": "0290f1d7-d23c-49aa-b53c-248026045703",
   "metadata": {},
   "source": [
    "## load and preprocess the data set"
   ]
  },
  {
   "cell_type": "code",
   "execution_count": 3,
   "id": "9360845b-3d1f-4b84-9a2b-8a50484e04ca",
   "metadata": {},
   "outputs": [
    {
     "name": "stdout",
     "output_type": "stream",
     "text": [
      "Downloading data from https://storage.googleapis.com/tensorflow/tf-keras-datasets/mnist.npz\n",
      "11490434/11490434 [==============================] - 4s 0us/step\n"
     ]
    }
   ],
   "source": [
    "(x_train, y_train), (x_test, y_test) = mnist.load_data()\n",
    "x_train = x_train.reshape(-1, 28, 28, 1).astype('float32') / 255.0\n",
    "x_test = x_test.reshape(-1, 28, 28, 1).astype('float32') / 255.0\n",
    "y_train = to_categorical(y_train, 10)\n",
    "y_test = to_categorical(y_test, 10)"
   ]
  },
  {
   "cell_type": "markdown",
   "id": "b6fcf90a-4511-4670-ac5d-153d3bcb3aa7",
   "metadata": {},
   "source": [
    "## build the cnn model"
   ]
  },
  {
   "cell_type": "code",
   "execution_count": 4,
   "id": "e8cc1ba2-0961-4239-9350-a86c308888c9",
   "metadata": {},
   "outputs": [],
   "source": [
    "model = Sequential([\n",
    "    Conv2D(32, (3, 3), activation='relu', input_shape=(28, 28, 1)),\n",
    "    MaxPooling2D((2, 2)),\n",
    "    Conv2D(64, (3, 3), activation='relu'),\n",
    "    MaxPooling2D((2, 2)),\n",
    "    Flatten(),\n",
    "    Dense(64, activation='relu'),\n",
    "    Dropout(0.5),\n",
    "    Dense(10, activation='softmax')\n",
    "])\n"
   ]
  },
  {
   "cell_type": "markdown",
   "id": "fa302b80-45ec-432f-b99f-70455e287eb9",
   "metadata": {},
   "source": [
    "## compile the model"
   ]
  },
  {
   "cell_type": "code",
   "execution_count": 5,
   "id": "5f7d6fea-dc89-480e-b1a0-907f72087862",
   "metadata": {},
   "outputs": [],
   "source": [
    "model.compile(optimizer='adam', loss='categorical_crossentropy', metrics=['accuracy'])"
   ]
  },
  {
   "cell_type": "markdown",
   "id": "9db3f4a7-913e-4033-ba22-1b767adc12c9",
   "metadata": {},
   "source": [
    "## Train the model"
   ]
  },
  {
   "cell_type": "code",
   "execution_count": null,
   "id": "6d69a3ab-ff67-4495-bd35-36f861eb1bc3",
   "metadata": {},
   "outputs": [
    {
     "name": "stdout",
     "output_type": "stream",
     "text": [
      "Epoch 1/10\n",
      "469/469 [==============================] - 60s 124ms/step - loss: 0.4237 - accuracy: 0.8665 - val_loss: 0.0749 - val_accuracy: 0.9748\n",
      "Epoch 2/10\n",
      "469/469 [==============================] - 90s 192ms/step - loss: 0.1613 - accuracy: 0.9518 - val_loss: 0.0529 - val_accuracy: 0.9823\n",
      "Epoch 3/10\n",
      "469/469 [==============================] - 55s 118ms/step - loss: 0.1261 - accuracy: 0.9619 - val_loss: 0.0419 - val_accuracy: 0.9852\n",
      "Epoch 4/10\n",
      "469/469 [==============================] - 42s 90ms/step - loss: 0.1026 - accuracy: 0.9694 - val_loss: 0.0363 - val_accuracy: 0.9867\n",
      "Epoch 5/10\n",
      "469/469 [==============================] - 55s 117ms/step - loss: 0.0923 - accuracy: 0.9717 - val_loss: 0.0354 - val_accuracy: 0.9881\n",
      "Epoch 6/10\n",
      "192/469 [===========>..................] - ETA: 35s - loss: 0.0857 - accuracy: 0.9739"
     ]
    }
   ],
   "source": [
    "history = model.fit(x_train, y_train, batch_size=128, epochs=10, validation_data=(x_test, y_test))"
   ]
  },
  {
   "cell_type": "code",
   "execution_count": null,
   "id": "0f90119b-bf16-4fb1-a91f-622eaf416d19",
   "metadata": {},
   "outputs": [],
   "source": []
  }
 ],
 "metadata": {
  "kernelspec": {
   "display_name": "Python 3 (ipykernel)",
   "language": "python",
   "name": "python3"
  },
  "language_info": {
   "codemirror_mode": {
    "name": "ipython",
    "version": 3
   },
   "file_extension": ".py",
   "mimetype": "text/x-python",
   "name": "python",
   "nbconvert_exporter": "python",
   "pygments_lexer": "ipython3",
   "version": "3.11.4"
  }
 },
 "nbformat": 4,
 "nbformat_minor": 5
}
